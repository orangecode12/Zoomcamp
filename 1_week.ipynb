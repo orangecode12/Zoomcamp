{
 "cells": [
  {
   "cell_type": "code",
   "execution_count": 76,
   "metadata": {},
   "outputs": [
    {
     "data": {
      "text/plain": [
       "'2.1.0'"
      ]
     },
     "execution_count": 76,
     "metadata": {},
     "output_type": "execute_result"
    }
   ],
   "source": [
    "import pandas as pd\n",
    "import numpy as np\n",
    "from numpy.linalg import inv\n",
    "pd.__version__\n"
   ]
  },
  {
   "cell_type": "code",
   "execution_count": 34,
   "metadata": {},
   "outputs": [
    {
     "name": "stdout",
     "output_type": "stream",
     "text": [
      "<bound method NDFrame.head of        longitude  latitude  housing_median_age  total_rooms  total_bedrooms  \\\n",
      "0      longitude  latitude  housing_median_age  total_rooms  total_bedrooms   \n",
      "1        -122.23     37.88                41.0        880.0           129.0   \n",
      "2        -122.22     37.86                21.0       7099.0          1106.0   \n",
      "3        -122.24     37.85                52.0       1467.0           190.0   \n",
      "4        -122.25     37.85                52.0       1274.0           235.0   \n",
      "...          ...       ...                 ...          ...             ...   \n",
      "20636    -121.09     39.48                25.0       1665.0           374.0   \n",
      "20637    -121.21     39.49                18.0        697.0           150.0   \n",
      "20638    -121.22     39.43                17.0       2254.0           485.0   \n",
      "20639    -121.32     39.43                18.0       1860.0           409.0   \n",
      "20640    -121.24     39.37                16.0       2785.0           616.0   \n",
      "\n",
      "       population  households  median_income  median_house_value  \\\n",
      "0      population  households  median_income  median_house_value   \n",
      "1           322.0       126.0         8.3252            452600.0   \n",
      "2          2401.0      1138.0         8.3014            358500.0   \n",
      "3           496.0       177.0         7.2574            352100.0   \n",
      "4           558.0       219.0         5.6431            341300.0   \n",
      "...           ...         ...            ...                 ...   \n",
      "20636       845.0       330.0         1.5603             78100.0   \n",
      "20637       356.0       114.0         2.5568             77100.0   \n",
      "20638      1007.0       433.0            1.7             92300.0   \n",
      "20639       741.0       349.0         1.8672             84700.0   \n",
      "20640      1387.0       530.0         2.3886             89400.0   \n",
      "\n",
      "       ocean_proximity  \n",
      "0      ocean_proximity  \n",
      "1             NEAR BAY  \n",
      "2             NEAR BAY  \n",
      "3             NEAR BAY  \n",
      "4             NEAR BAY  \n",
      "...                ...  \n",
      "20636           INLAND  \n",
      "20637           INLAND  \n",
      "20638           INLAND  \n",
      "20639           INLAND  \n",
      "20640           INLAND  \n",
      "\n",
      "[20641 rows x 10 columns]>\n"
     ]
    },
    {
     "data": {
      "text/plain": [
       "5"
      ]
     },
     "execution_count": 34,
     "metadata": {},
     "output_type": "execute_result"
    }
   ],
   "source": [
    "#Get data\n",
    "data_tab = pd.read_csv('housing.csv', sep=\",\", header=None, names=[\"longitude\", \"latitude\", \"housing_median_age\", \"total_rooms\", \"total_bedrooms\", \"population\", \"households\", \"median_income\", \"median_house_value\", \"ocean_proximity\"])\n",
    "#Show some data\n",
    "print(data_tab.head)\n",
    "#How many rows and columns?\n",
    "data_tab.shape\n",
    "data_tab = data_tab.iloc[1: , :]\n",
    "#Number of unique values in the 'ocean_proximity' column\n",
    "data_tab['ocean_proximity']. nunique()"
   ]
  },
  {
   "cell_type": "code",
   "execution_count": 37,
   "metadata": {},
   "outputs": [
    {
     "data": {
      "text/plain": [
       "ocean_proximity\n",
       "<1H OCEAN     240084.285464\n",
       "INLAND        124805.392001\n",
       "ISLAND        380440.000000\n",
       "NEAR BAY      259212.311790\n",
       "NEAR OCEAN    249433.977427\n",
       "Name: median_house_value, dtype: float64"
      ]
     },
     "execution_count": 37,
     "metadata": {},
     "output_type": "execute_result"
    }
   ],
   "source": [
    "#Average value of the 'median_house_value' for the houses near the bay\n",
    "data_tab['median_house_value'] = pd.to_numeric(data_tab['median_house_value'])\n",
    "data_tab.groupby('ocean_proximity')['median_house_value'].mean()\n"
   ]
  },
  {
   "cell_type": "code",
   "execution_count": 53,
   "metadata": {},
   "outputs": [
    {
     "name": "stdout",
     "output_type": "stream",
     "text": [
      "207\n",
      "537.8705525375618\n",
      "537.8705525375617\n",
      "0\n"
     ]
    }
   ],
   "source": [
    "#Select columns with missing data\n",
    "print(data_tab['total_bedrooms'].isna().sum())\n",
    "\n",
    "#count mean\n",
    "data_tab['total_bedrooms'] = pd.to_numeric(data_tab['total_bedrooms'])\n",
    "print(data_tab['total_bedrooms'].mean())\n",
    "\n",
    "data_tab['total_bedrooms'].fillna(data_tab['total_bedrooms'].mean(), inplace=True)\n",
    "print(data_tab['total_bedrooms'].mean())\n",
    "print(data_tab['total_bedrooms'].isna().sum())\n"
   ]
  },
  {
   "cell_type": "code",
   "execution_count": 77,
   "metadata": {},
   "outputs": [
    {
     "name": "stdout",
     "output_type": "stream",
     "text": [
      "5.699229455065574\n"
     ]
    }
   ],
   "source": [
    "#print(data_tab['ocean_proximity'].str.startswith('ISLAND').sum())     ['housing_median_age'], ['total_rooms'], ['total_bedrooms'], \n",
    "data_island = data_tab.loc[data_tab['ocean_proximity'] == 'ISLAND'][['housing_median_age', 'total_rooms', 'total_bedrooms']] \n",
    "data_island.head\n",
    "data_island[ 'total_rooms'] = pd.to_numeric(data_island['total_rooms'])\n",
    "data_island[ 'housing_median_age'] = pd.to_numeric(data_island['housing_median_age'])\n",
    "\n",
    "X = data_island.values\n",
    "XTX = X.T @ X\n",
    "XTX_inv = inv(XTX)\n",
    "y = np.array([950, 1300, 800, 1000, 1300])\n",
    "w = XTX_inv @ X.T @ y\n",
    "print(w[-1])\n"
   ]
  }
 ],
 "metadata": {
  "kernelspec": {
   "display_name": ".venv",
   "language": "python",
   "name": "python3"
  },
  "language_info": {
   "codemirror_mode": {
    "name": "ipython",
    "version": 3
   },
   "file_extension": ".py",
   "mimetype": "text/x-python",
   "name": "python",
   "nbconvert_exporter": "python",
   "pygments_lexer": "ipython3",
   "version": "3.11.2"
  },
  "orig_nbformat": 4
 },
 "nbformat": 4,
 "nbformat_minor": 2
}
