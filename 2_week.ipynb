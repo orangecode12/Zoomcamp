{
 "cells": [
  {
   "cell_type": "markdown",
   "metadata": {},
   "source": [
    "The second homework"
   ]
  },
  {
   "cell_type": "code",
   "execution_count": 1,
   "metadata": {},
   "outputs": [
    {
     "name": "stderr",
     "output_type": "stream",
     "text": [
      "--2023-09-25 16:05:12--  https://raw.githubusercontent.com/alexeygrigorev/datasets/master/housing.csv\n",
      "Resolving raw.githubusercontent.com (raw.githubusercontent.com)... 185.199.110.133, 185.199.108.133, 185.199.109.133, ...\n",
      "Connecting to raw.githubusercontent.com (raw.githubusercontent.com)|185.199.110.133|:443... connected.\n",
      "HTTP request sent, awaiting response... 200 OK\n",
      "Length: 1423529 (1.4M) [text/plain]\n",
      "Saving to: 'housing.csv.3'\n",
      "\n",
      "     0K .......... .......... .......... .......... ..........  3%  743K 2s\n",
      "    50K .......... .......... .......... .......... ..........  7% 2.74M 1s\n",
      "   100K .......... .......... .......... .......... .......... 10% 1.24M 1s\n",
      "   150K .......... .......... .......... .......... .......... 14% 2.78M 1s\n",
      "   200K .......... .......... .......... .......... .......... 17% 1.62M 1s\n",
      "   250K .......... .......... .......... .......... .......... 21% 3.16M 1s\n",
      "   300K .......... .......... .......... .......... .......... 25% 3.38M 1s\n",
      "   350K .......... .......... .......... .......... .......... 28% 1.43M 1s\n",
      "   400K .......... .......... .......... .......... .......... 32% 2.97M 1s\n",
      "   450K .......... .......... .......... .......... .......... 35% 7.71M 0s\n",
      "   500K .......... .......... .......... .......... .......... 39% 10.8M 0s\n",
      "   550K .......... .......... .......... .......... .......... 43% 9.68M 0s\n",
      "   600K .......... .......... .......... .......... .......... 46% 2.11M 0s\n",
      "   650K .......... .......... .......... .......... .......... 50% 8.97M 0s\n",
      "   700K .......... .......... .......... .......... .......... 53% 9.62M 0s\n",
      "   750K .......... .......... .......... .......... .......... 57% 1.96M 0s\n",
      "   800K .......... .......... .......... .......... .......... 61% 8.02M 0s\n",
      "   850K .......... .......... .......... .......... .......... 64% 9.16M 0s\n",
      "   900K .......... .......... .......... .......... .......... 68% 6.13M 0s\n",
      "   950K .......... .......... .......... .......... .......... 71% 12.0M 0s\n",
      "  1000K .......... .......... .......... .......... .......... 75% 9.55M 0s\n",
      "  1050K .......... .......... .......... .......... .......... 79% 22.8M 0s\n",
      "  1100K .......... .......... .......... .......... .......... 82% 10.5M 0s\n",
      "  1150K .......... .......... .......... .......... .......... 86% 8.14M 0s\n",
      "  1200K .......... .......... .......... .......... .......... 89% 14.3M 0s\n",
      "  1250K .......... .......... .......... .......... .......... 93% 9.05M 0s\n",
      "  1300K .......... .......... .......... .......... .......... 97% 9.61M 0s\n",
      "  1350K .......... .......... .......... ..........           100% 26.2M=0.4s\n",
      "\n",
      "2023-09-25 16:05:12 (3.54 MB/s) - 'housing.csv.3' saved [1423529/1423529]\n",
      "\n"
     ]
    }
   ],
   "source": [
    "import wget\n",
    "\n",
    "data = 'https://raw.githubusercontent.com/alexeygrigorev/datasets/master/housing.csv'\n",
    "!wget $data "
   ]
  },
  {
   "cell_type": "code",
   "execution_count": null,
   "metadata": {},
   "outputs": [],
   "source": [
    "import pandas as pd\n",
    "import numpy as np\n",
    "\n",
    "\n",
    "\n",
    "df = pd.read_csv('housing.csv')\n",
    "df.head()"
   ]
  },
  {
   "cell_type": "code",
   "execution_count": null,
   "metadata": {},
   "outputs": [],
   "source": [
    "import matplotlib.pyplot as plt\n",
    "import seaborn as sns\n",
    "\n",
    "%matplotlib inline\n",
    "\n",
    "sns.histplot(df.median_house_value, bins=50)"
   ]
  },
  {
   "cell_type": "code",
   "execution_count": null,
   "metadata": {},
   "outputs": [],
   "source": [
    "df_short = df[df.ocean_proximity.isin(['<1H OCEAN','INLAND'])]\n",
    "df_short.tail()\n",
    "\n",
    "#df_short = df_short[['latitude','longitude','housing_median_age','total_rooms','total_bedrooms','population','households','median_income','median_house_value']]\n",
    "#df_short.head()\n",
    "\n",
    "del df_short['ocean_proximity']\n",
    "df_short.head()\n",
    "\n",
    "df_short.isnull().sum()"
   ]
  },
  {
   "cell_type": "code",
   "execution_count": null,
   "metadata": {},
   "outputs": [],
   "source": [
    "df_short['population'].median()"
   ]
  },
  {
   "cell_type": "code",
   "execution_count": null,
   "metadata": {},
   "outputs": [],
   "source": [
    "n = df_short.shape[0]\n",
    "n_train = int(n * 0.6)\n",
    "n_val = int(n * 0.2)\n",
    "\n",
    "idx = np.arange(n)\n",
    "np.random.seed(42)\n",
    "np.random.shuffle(idx)\n",
    "\n",
    "df_train = df_short.iloc[idx[:n_train]]\n",
    "df_val = df_short.iloc[idx[n_train:n_train+n_val]]\n",
    "df_test = df_short.iloc[idx[n_train+n_val:]]\n",
    "\n",
    "print(n)\n",
    "print(len(df_train)+len(df_val)+len(df_test))\n",
    "df_train.head()"
   ]
  },
  {
   "cell_type": "code",
   "execution_count": null,
   "metadata": {},
   "outputs": [],
   "source": [
    "df_train = df_train.reset_index(drop=True)\n",
    "df_val = df_val.reset_index(drop=True)\n",
    "df_test = df_test.reset_index(drop=True)\n",
    "df_train.head()\n",
    "\n",
    "y_train = np.log1p(df_train.median_house_value.values)\n",
    "y_val = np.log1p(df_val.median_house_value.values)\n",
    "y_test = np.log1p(df_test.median_house_value.values)\n",
    "\n",
    "del df_train['median_house_value']\n",
    "del df_val['median_house_value']\n",
    "del df_test['median_house_value']\n",
    "df_train.head()\n"
   ]
  },
  {
   "cell_type": "code",
   "execution_count": null,
   "metadata": {},
   "outputs": [],
   "source": [
    "len(y_train)"
   ]
  },
  {
   "cell_type": "code",
   "execution_count": null,
   "metadata": {},
   "outputs": [],
   "source": [
    "def train_linear_regression(X, y):\n",
    "    ones = np.ones(X.shape[0])\n",
    "    X = np.column_stack([ones, X])\n",
    "\n",
    "    XTX = X.T.dot(X)\n",
    "    XTX_inv = np.linalg.inv(XTX)\n",
    "    w_full = XTX_inv.dot(X.T).dot(y)\n",
    "    \n",
    "    return w_full[0], w_full[1:]\n",
    "\n",
    "df_X_train = df_train.fillna(0)\n",
    "df_X_train.isna().sum()\n",
    "\n",
    "X_train = df_X_train.values\n",
    "w0, w = train_linear_regression(X_train, y_train)\n",
    "print(w0,w)\n"
   ]
  },
  {
   "cell_type": "code",
   "execution_count": null,
   "metadata": {},
   "outputs": [],
   "source": [
    "def rmse(y, y_pred):\n",
    "    se = (y - y_pred) ** 2\n",
    "    mse = se.mean()\n",
    "    return np.sqrt(mse)\n",
    "\n",
    "rmse(y_train, y_pred)"
   ]
  },
  {
   "cell_type": "code",
   "execution_count": null,
   "metadata": {},
   "outputs": [],
   "source": [
    "mean_tb = int(df_train['total_bedrooms'].mean())\n",
    "mean_tb\n"
   ]
  },
  {
   "cell_type": "code",
   "execution_count": null,
   "metadata": {},
   "outputs": [],
   "source": [
    "X_train_mean = df_train.fillna(mean_tb).values\n",
    "\n",
    "w0_mean, w_mean = train_linear_regression(X_train_mean, y_train)\n",
    "w0_mean, w_mean"
   ]
  },
  {
   "cell_type": "code",
   "execution_count": null,
   "metadata": {},
   "outputs": [],
   "source": [
    "df_train.head()\n"
   ]
  },
  {
   "cell_type": "code",
   "execution_count": null,
   "metadata": {},
   "outputs": [],
   "source": [
    "df_val.head()"
   ]
  },
  {
   "cell_type": "code",
   "execution_count": null,
   "metadata": {},
   "outputs": [],
   "source": [
    "X_val = df_val.fillna(0).values\n",
    "y_pred = w0 + X_val.dot(w)\n",
    "rmse(y_val, y_pred)"
   ]
  },
  {
   "cell_type": "code",
   "execution_count": null,
   "metadata": {},
   "outputs": [],
   "source": [
    "X_val_mean = df_val.fillna(mean_tb).values\n",
    "y_pred_mean = w0_mean + X_val_mean.dot(w_mean)\n",
    "rmse(y_val, y_pred_mean)"
   ]
  },
  {
   "cell_type": "code",
   "execution_count": null,
   "metadata": {},
   "outputs": [],
   "source": [
    "X_train = df_train.fillna(0).values\n",
    "w0, w = train_linear_regression(X_train, y_train)\n",
    "print(w0,w)"
   ]
  },
  {
   "cell_type": "code",
   "execution_count": null,
   "metadata": {},
   "outputs": [],
   "source": [
    "def train_linear_regression_reg(X, y, r=0.001):\n",
    "    ones = np.ones(X.shape[0])\n",
    "    X = np.column_stack([ones, X])\n",
    "\n",
    "    XTX = X.T.dot(X)\n",
    "    XTX = XTX + r * np.eye(XTX.shape[0])\n",
    "\n",
    "    XTX_inv = np.linalg.inv(XTX)\n",
    "    w_full = XTX_inv.dot(X.T).dot(y)\n",
    "    \n",
    "    return w_full[0], w_full[1:]\n",
    "\n",
    "for r in [0, 0.000001, 0.0001, 0.001, 0.01, 0.1, 1, 5, 10]:\n",
    "    X_train = df_train.fillna(0).values\n",
    "    w0, w = train_linear_regression_reg(X_train, y_train, r=r)\n",
    "\n",
    "    X_val = df_val.fillna(0).values\n",
    "    y_pred = w0 + X_val.dot(w)\n",
    "    score = rmse(y_val, y_pred)\n",
    "    \n",
    "    print(r, w0, score)"
   ]
  },
  {
   "cell_type": "code",
   "execution_count": null,
   "metadata": {},
   "outputs": [],
   "source": [
    "idx = np.arange(n)\n",
    "np.random.seed(9)\n",
    "np.random.shuffle(idx)\n",
    "\n",
    "df_train = df_short.iloc[idx[:n_train+n_val]]\n",
    "df_test = df_short.iloc[idx[n_train+n_val:]]\n",
    "\n",
    "df_train = df_train.reset_index(drop=True)\n",
    "df_test = df_test.reset_index(drop=True)\n",
    "\n",
    "y_train = np.log1p(df_train.median_house_value.values)\n",
    "y_test = np.log1p(df_test.median_house_value.values)\n",
    "\n",
    "del df_train['median_house_value']\n",
    "del df_test['median_house_value']\n",
    "df_train.head()\n",
    "\n",
    "X_train = df_train.fillna(0).values\n",
    "w0, w = train_linear_regression_reg(X_train, y_train, r=0.001)\n",
    "\n",
    "X_test = df_test.fillna(0).values\n",
    "y_pred = w0 + X_test.dot(w)\n",
    "score = rmse(y_test, y_pred)\n",
    "\n",
    "print(score)"
   ]
  },
  {
   "cell_type": "code",
   "execution_count": null,
   "metadata": {},
   "outputs": [],
   "source": [
    "score"
   ]
  },
  {
   "cell_type": "markdown",
   "metadata": {},
   "source": []
  },
  {
   "cell_type": "code",
   "execution_count": null,
   "metadata": {},
   "outputs": [],
   "source": [
    "score"
   ]
  }
 ],
 "metadata": {
  "kernelspec": {
   "display_name": ".venv",
   "language": "python",
   "name": "python3"
  },
  "language_info": {
   "codemirror_mode": {
    "name": "ipython",
    "version": 3
   },
   "file_extension": ".py",
   "mimetype": "text/x-python",
   "name": "python",
   "nbconvert_exporter": "python",
   "pygments_lexer": "ipython3",
   "version": "3.11.2"
  },
  "orig_nbformat": 4
 },
 "nbformat": 4,
 "nbformat_minor": 2
}
